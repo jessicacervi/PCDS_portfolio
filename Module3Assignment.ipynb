{
 "cells": [
  {
   "cell_type": "markdown",
   "metadata": {
    "nbgrader": {
     "grade": false,
     "grade_id": "cell-6f12e9067a3a7aa7",
     "locked": true,
     "schema_version": 1,
     "solution": false
    }
   },
   "source": [
    "##### In this assignment you will be tasked with filling in missing code segments in order to analyse random variable's cobehavior."
   ]
  },
  {
   "cell_type": "markdown",
   "metadata": {
    "nbgrader": {
     "grade": false,
     "grade_id": "cell-5f8ce257452ad4a4",
     "locked": true,
     "schema_version": 1,
     "solution": false
    }
   },
   "source": [
    "###### As a refresher, covarience can be thought of as the same as correlation, however unlike correlation, covarience is not limited between -1 and 1. Also, remeber a simple covarience matrix of two random variables is a representation of the below matrix: "
   ]
  },
  {
   "cell_type": "code",
   "execution_count": 17,
   "metadata": {
    "nbgrader": {
     "grade": false,
     "grade_id": "cell-e190caf6c096b8e4",
     "locked": true,
     "schema_version": 1,
     "solution": false
    }
   },
   "outputs": [
    {
     "name": "stdout",
     "output_type": "stream",
     "text": [
      "Covarience matrix of two random variables: \n",
      "----------  ----------\n",
      "Var(A)      Covar(A,B)\n",
      "Covar(B,A)  Var(B)\n",
      "----------  ----------\n"
     ]
    }
   ],
   "source": [
    "from tabulate import tabulate\n",
    "import matplotlib.pyplot as pyplot\n",
    "\n",
    "print(\"Covarience matrix of two random variables: \")\n",
    "data = [\n",
    "[\"Var(A) \", \"Covar(A,B)\" ],\n",
    "[\"Covar(B,A) \",\"Var(B)\" ]]\n",
    "\n",
    "print (tabulate(data))\n"
   ]
  },
  {
   "cell_type": "markdown",
   "metadata": {
    "nbgrader": {
     "grade": false,
     "grade_id": "cell-5af6f8fc54d4ecc0",
     "locked": true,
     "schema_version": 1,
     "solution": false
    }
   },
   "source": [
    "###### Use Numpy to find and print the covarience matrix of these random vaiables when the bias is set to false. "
   ]
  },
  {
   "cell_type": "code",
   "execution_count": 6,
   "metadata": {
    "nbgrader": {
     "grade": false,
     "grade_id": "cell-a3ba356eba0f442d",
     "locked": false,
     "schema_version": 1,
     "solution": true
    }
   },
   "outputs": [
    {
     "name": "stdout",
     "output_type": "stream",
     "text": [
      "[[15.8  9.6]\n",
      " [ 9.6 21.7]]\n"
     ]
    }
   ],
   "source": [
    "import numpy as np\n",
    "\n",
    "A = [45,37,42,35,39]\n",
    "B = [38,31,26,28,33]\n",
    "\n",
    "#Create the variable \"covMatrix\" to hold the Numpy covarience matrix with bias = False.\n",
    "### BEGIN SOLUTION\n",
    "covMatrix = np.cov(A,B,bias=False)\n",
    "print (covMatrix)\n",
    "### END SOLUTION"
   ]
  },
  {
   "cell_type": "code",
   "execution_count": 8,
   "metadata": {
    "nbgrader": {
     "grade": true,
     "grade_id": "cell-a727d74942b99c7b",
     "locked": true,
     "points": 2,
     "schema_version": 1,
     "solution": false
    }
   },
   "outputs": [],
   "source": [
    "### BEGIN HIDDEN TESTS\n",
    "covMatrix_ = np.cov(A,B,bias=False)\n",
    "\n",
    "assert (covMatrix_ == covMatrix).all(), 'Covariance matrices are not equal'\n",
    "### END HIDDEN TESTS"
   ]
  },
  {
   "cell_type": "markdown",
   "metadata": {
    "nbgrader": {
     "grade": false,
     "grade_id": "cell-4ec6eff85b553234",
     "locked": true,
     "schema_version": 1,
     "solution": false
    }
   },
   "source": [
    "###### Now use the same function on three random variables by creating a numpy array"
   ]
  },
  {
   "cell_type": "code",
   "execution_count": 14,
   "metadata": {
    "nbgrader": {
     "grade": false,
     "grade_id": "cell-6d85f0567c517bad",
     "locked": false,
     "schema_version": 1,
     "solution": true
    }
   },
   "outputs": [],
   "source": [
    "import numpy as np\n",
    "\n",
    "A = [45,37,42,35,39]\n",
    "B = [38,31,26,28,33]\n",
    "C = [10,15,17,21,12]\n",
    "\n",
    "# First arrange your data into a numpy array\n",
    "# Then assign \"covMatrix\" to the covarience matrix\n",
    "\n",
    "### BEGIN SOLUTION\n",
    "data = np.array([A,B,C])\n",
    "\n",
    "covMatrix = np.cov(data, bias=False)\n",
    "\n",
    "### END SOLUTION\n"
   ]
  },
  {
   "cell_type": "code",
   "execution_count": 15,
   "metadata": {
    "nbgrader": {
     "grade": true,
     "grade_id": "cell-2a415a1e7ee47ee8",
     "locked": true,
     "points": 2,
     "schema_version": 1,
     "solution": false
    }
   },
   "outputs": [
    {
     "name": "stdout",
     "output_type": "stream",
     "text": [
      "[[ True  True  True]\n",
      " [ True  True  True]\n",
      " [ True  True  True]]\n"
     ]
    }
   ],
   "source": [
    "### BEGIN HIDDEN TESTS\n",
    "A = [45,37,42,35,39]\n",
    "B = [38,31,26,28,33]\n",
    "C = [10,15,17,21,12]\n",
    "\n",
    "data_ = np.array([A,B,C])\n",
    "\n",
    "covMatrix_ = np.cov(data_, bias=False)\n",
    "\n",
    "assert (covMatrix_ == covMatrix).all(), 'Covariance matrices are not equal'\n",
    "### END HIDDEN TESTS"
   ]
  },
  {
   "cell_type": "markdown",
   "metadata": {
    "nbgrader": {
     "grade": false,
     "grade_id": "cell-6baba60d35b7a3b8",
     "locked": true,
     "schema_version": 1,
     "solution": false
    }
   },
   "source": [
    "###### Next, you will generate your own random variables, observe the mean and standard deviation, and then display the random variables with a scatter plot"
   ]
  },
  {
   "cell_type": "code",
   "execution_count": 31,
   "metadata": {
    "nbgrader": {
     "grade": false,
     "grade_id": "cell-aae3f6bea1033e9e",
     "locked": false,
     "schema_version": 1,
     "solution": true
    }
   },
   "outputs": [
    {
     "data": {
      "image/png": "[encoded data removed]",
      "text/plain": [
       "<Figure size 432x288 with 1 Axes>"
      ]
     },
     "metadata": {
      "needs_background": "light"
     },
     "output_type": "display_data"
    },
    {
     "name": "stdout",
     "output_type": "stream",
     "text": [
      "data1: mean=101.358 stdv=19.691\n",
      "data2: mean=520.409 stdv=10.615\n"
     ]
    }
   ],
   "source": [
    "import random\n",
    "import matplotlib.pyplot as pyplot\n",
    "import numpy as np\n",
    "import numpy.random as rnd\n",
    "####### Used to genarate the data ###########\n",
    "random.seed(0)\n",
    "# prepare data\n",
    "data1 = 20 * rnd.randn(1000) + 100\n",
    "data2 = (data1 * .2 + (10 * rnd.randn(1000) + 500))\n",
    "\n",
    "# Find the mean and std of both data1 and data2. Assign the values to mean1, std1, mean2, std2 respectively.\n",
    "# Then use pyplot to display the scatter plot\n",
    "### BEGIN SOLUTION\n",
    "mean1 = np.mean(data1)\n",
    "mean2 = np.mean(data2)\n",
    "std1 = np.std(data1)\n",
    "std2 = np.std(data2)\n",
    "### END SOLUTION\n",
    "\n",
    "# USED FROM GRADING. DO NOT CHANGE\n",
    "fig = pyplot.scatter(data1, data2)\n",
    "pyplot.show()\n",
    "print('data1: mean=%.3f stdv=%.3f' % (mean1, std1))\n",
    "print('data2: mean=%.3f stdv=%.3f' % (mean2, std2))\n",
    "\n",
    "points = fig.get_offsets()"
   ]
  },
  {
   "cell_type": "code",
   "execution_count": 34,
   "metadata": {
    "nbgrader": {
     "grade": true,
     "grade_id": "cell-a5656f4da3dd7815",
     "locked": true,
     "points": 2,
     "schema_version": 1,
     "solution": false
    }
   },
   "outputs": [
    {
     "data": {
      "image/png": "[encoded data removed]",
      "text/plain": [
       "<Figure size 432x288 with 1 Axes>"
      ]
     },
     "metadata": {
      "needs_background": "light"
     },
     "output_type": "display_data"
    }
   ],
   "source": [
    "### BEGIN HIDDEN TESTS\n",
    "mean1_ = np.mean(data1)\n",
    "mean2_ = np.mean(data2)\n",
    "std1_ = np.std(data1)\n",
    "std2_ = np.std(data2)\n",
    "fig_ = pyplot.scatter(data1, data2)\n",
    "\n",
    "points_ = fig_.get_offsets()\n",
    "\n",
    "assert mean1 == mean1_\n",
    "assert mean2 == mean2_\n",
    "assert std1 == std1_\n",
    "assert std2 == std2_\n",
    "assert (points == points_).all()\n",
    "## A proper way of validating two floating point value would be use numpy's 'isclose' method because floating point value aren't always processed/stored in the same manner.\n",
    "## In the above task-solution it is fine because the data points or data reference is same as it is calculated only once.\n",
    "## assert np.isclose( mean1 == mean1_ )\n",
    "## assert np.isclose( mean2 == mean2_ )\n",
    "## assert np.isclose( std1 == std1_ )\n",
    "## assert np.isclose( std2 == std2_ )\n",
    "### END HIDDEN TESTS"
   ]
  },
  {
   "cell_type": "markdown",
   "metadata": {
    "nbgrader": {
     "grade": false,
     "grade_id": "cell-50b31397648f57cf",
     "locked": true,
     "schema_version": 1,
     "solution": false
    }
   },
   "source": [
    "###### Next, You will use these numpy functions to find if there is correlation between the amount in advertising spent vs the total sales for the day. Start by loading in the data.csv file. In this file there are two columns, the column at the 0 index represents total amount spent on advertisement for a given day, the second column represents total sales for that same day. You will load in the file using numpy and display the two data fields as a scatter plot. "
   ]
  },
  {
   "cell_type": "code",
   "execution_count": 29,
   "metadata": {
    "nbgrader": {
     "grade": false,
     "grade_id": "cell-ce9d28e072774023",
     "locked": false,
     "schema_version": 1,
     "solution": true
    }
   },
   "outputs": [
    {
     "data": {
      "image/png": "[encoded data removed]",
      "text/plain": [
       "<Figure size 432x288 with 1 Axes>"
      ]
     },
     "metadata": {
      "needs_background": "light"
     },
     "output_type": "display_data"
    }
   ],
   "source": [
    "from numpy import loadtxt\n",
    "# load the data using numpy's loadtext. Assign the output to variable \"data\". \n",
    "# The data has 2 columns, we will create a scatterplot with the data. \n",
    "\n",
    "### BEGIN SOLUTION\n",
    "data = loadtxt('data.csv', delimiter=',')\n",
    "\n",
    "### END SOLUTION\n",
    "\n",
    "# USED FROM GRADING. DO NOT CHANGE\n",
    "fig = pyplot.scatter(data[0], data[1])\n",
    "points = fig.get_offsets()\n",
    "pyplot.show()"
   ]
  },
  {
   "cell_type": "code",
   "execution_count": 35,
   "metadata": {
    "nbgrader": {
     "grade": true,
     "grade_id": "cell-eff9b12b5ae48ff8",
     "locked": true,
     "points": 2,
     "schema_version": 1,
     "solution": false
    }
   },
   "outputs": [
    {
     "data": {
      "image/png": "[encoded data removed]",
      "text/plain": [
       "<Figure size 432x288 with 1 Axes>"
      ]
     },
     "metadata": {
      "needs_background": "light"
     },
     "output_type": "display_data"
    }
   ],
   "source": [
    "### BEGIN HIDDEN TESTS\n",
    "data_ = loadtxt('data.csv', delimiter=',')\n",
    "fig_ = pyplot.scatter(data[0], data[1])\n",
    "points_ = fig.get_offsets()\n",
    "assert (points_ == points).all()\n",
    "\n",
    "###END HIDDEN TESTS"
   ]
  },
  {
   "cell_type": "markdown",
   "metadata": {
    "nbgrader": {
     "grade": false,
     "grade_id": "cell-a1bd850af4c9c1a0",
     "locked": true,
     "schema_version": 1,
     "solution": false
    }
   },
   "source": [
    "###### Find the average amount spent on advertising and average total sales for the day. "
   ]
  },
  {
   "cell_type": "code",
   "execution_count": 84,
   "metadata": {
    "nbgrader": {
     "grade": false,
     "grade_id": "cell-5cd107b0d7b74293",
     "locked": false,
     "schema_version": 1,
     "solution": true
    }
   },
   "outputs": [
    {
     "name": "stdout",
     "output_type": "stream",
     "text": [
      "Amount spent on Ads : mean=99.095     stdv=19.741\n",
      "Daily Sales:          mean=519.955    stdv=10.340\n"
     ]
    }
   ],
   "source": [
    "#Store the mean and std of the random variables as variable names mean1, mean2, std1, std2.\n",
    "\n",
    "###BEGIN SOLUTION\n",
    "mean1 = np.mean(data[0])\n",
    "mean2 = np.mean(data[1])\n",
    "std1 = np.std(data[0])\n",
    "std2 = np.std(data[1])\n",
    "###END SOLUTION\n",
    "\n",
    "\n",
    "print('Amount spent on Ads : mean=%.3f     stdv=%.3f' % (mean1, std1))\n",
    "print('Daily Sales:          mean=%.3f    stdv=%.3f' % (mean2, std2)) "
   ]
  },
  {
   "cell_type": "code",
   "execution_count": null,
   "metadata": {
    "nbgrader": {
     "grade": true,
     "grade_id": "cell-a90fd44bb265e6f1",
     "locked": true,
     "points": 2,
     "schema_version": 1,
     "solution": false
    }
   },
   "outputs": [],
   "source": [
    "### BEGIN HIDDEN TESTS\n",
    "mean1_ = np.mean(data[0])\n",
    "mean2_ = np.mean(data[1])\n",
    "std1_ = np.std(data[0])\n",
    "std2_ = np.std(data[1])\n",
    "\n",
    "assert mean1 == mean1_\n",
    "assert mean2 == mean2_\n",
    "assert std1 == std1_\n",
    "assert std2 == std2_\n",
    "## A proper way of validating two floating point value would be use numpy's 'isclose' method because floating point value aren't always processed/stored in the same manner.\n",
    "## In the above task-solution it is fine because the data points or data reference is same as it is calculated only once.\n",
    "## assert np.isclose( mean1 == mean1_ )\n",
    "## assert np.isclose( mean2 == mean2_ )\n",
    "## assert np.isclose( std1 == std1_ )\n",
    "## assert np.isclose( std2 == std2_ )\n",
    "### END HIDDEN TESTS"
   ]
  },
  {
   "cell_type": "markdown",
   "metadata": {
    "nbgrader": {
     "grade": false,
     "grade_id": "cell-799eb3fea70a69ea",
     "locked": true,
     "schema_version": 1,
     "solution": false
    }
   },
   "source": [
    "###### Find the covarience matrix of your data set. "
   ]
  },
  {
   "cell_type": "code",
   "execution_count": 36,
   "metadata": {
    "nbgrader": {
     "grade": false,
     "grade_id": "cell-c9f2753d7d6c7d39",
     "locked": false,
     "schema_version": 1,
     "solution": true
    },
    "scrolled": true
   },
   "outputs": [
    {
     "name": "stdout",
     "output_type": "stream",
     "text": [
      "Covariant Martix\n",
      "[[390.08386639  71.98884599]\n",
      " [ 71.98884599 107.01938637]]\n"
     ]
    }
   ],
   "source": [
    "# Now get the Covarience matrix and assign it to variable \"covMatrix\" . \n",
    "### BEGIN SOLUTION\n",
    "covMatrix = np.cov(data)\n",
    "### END SOLUTION\n",
    "print(\"Covariant Martix\")\n",
    "print (covMatrix)"
   ]
  },
  {
   "cell_type": "code",
   "execution_count": 38,
   "metadata": {
    "nbgrader": {
     "grade": true,
     "grade_id": "cell-64bb650dec6e17b6",
     "locked": true,
     "points": 3,
     "schema_version": 1,
     "solution": false
    }
   },
   "outputs": [
    {
     "name": "stdout",
     "output_type": "stream",
     "text": [
      "True\n"
     ]
    }
   ],
   "source": [
    "### BEGIN HIDDEN TESTS\n",
    "covMatrix_ = np.cov(data)\n",
    "\n",
    "assert (covMatrix_ == covMatrix).all(), 'Covariance matrices are not equal'\n",
    "\n",
    "### END HIDDEN TESTS\n"
   ]
  }
 ],
 "metadata": {
  "celltoolbar": "Create Assignment",
  "kernelspec": {
   "display_name": "Python 3",
   "language": "python",
   "name": "python3"
  },
  "language_info": {
   "codemirror_mode": {
    "name": "ipython",
    "version": 3
   },
   "file_extension": ".py",
   "mimetype": "text/x-python",
   "name": "python",
   "nbconvert_exporter": "python",
   "pygments_lexer": "ipython3",
   "version": "3.6.9"
  }
 },
 "nbformat": 4,
 "nbformat_minor": 5
}
